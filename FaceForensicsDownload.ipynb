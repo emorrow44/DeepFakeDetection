{
  "cells": [
    {
      "cell_type": "markdown",
      "metadata": {
        "id": "view-in-github",
        "colab_type": "text"
      },
      "source": [
        "<a href=\"https://colab.research.google.com/github/emorrow44/DeepFakeDetection/blob/main/FaceForensicsDownload.ipynb\" target=\"_parent\"><img src=\"https://colab.research.google.com/assets/colab-badge.svg\" alt=\"Open In Colab\"/></a>"
      ]
    },
    {
      "cell_type": "code",
      "execution_count": null,
      "metadata": {
        "colab": {
          "base_uri": "https://localhost:8080/"
        },
        "id": "8pafZZf-hxaH",
        "outputId": "92f4991d-464f-4b2d-fe5c-8269ca8a2420"
      },
      "outputs": [
        {
          "output_type": "stream",
          "name": "stdout",
          "text": [
            "Mounted at /content/gdrive\n"
          ]
        }
      ],
      "source": [
        "from google.colab import drive\n",
        "drive.mount('/content/gdrive')"
      ]
    },
    {
      "cell_type": "code",
      "execution_count": null,
      "metadata": {
        "colab": {
          "background_save": true,
          "base_uri": "https://localhost:8080/"
        },
        "id": "nd6JDH28ksoE",
        "outputId": "ee85513d-8135-4c19-b61d-37a4277f7839"
      },
      "outputs": [
        {
          "name": "stdout",
          "output_type": "stream",
          "text": [
            "By pressing any key to continue you confirm that you have agreed to the FaceForensics terms of use as described at:\n",
            "http://canis.vc.in.tum.de:8100/webpage/FaceForensics_TOS.pdf\n",
            "***\n",
            "Press any key to continue, or CTRL-C to exit.\n",
            "\n",
            "Downloading videos of dataset \"original_sequences/youtube\"\n",
            "Output path: /content/gdrive/Shareddrives/FaceForensics++/FaceForensics++/original_sequences/youtube/c23/videos\n",
            "  0% 0/1000 [00:00<?, ?it/s]\n",
            "  0% 4/1000 [00:05<23:37,  1.42s/it]\n",
            "100% 1000/1000 [30:43<00:00,  1.84s/it]\n",
            "Downloading videos of dataset \"original_sequences/actors\"\n",
            "Output path: /content/gdrive/Shareddrives/FaceForensics++/FaceForensics++/original_sequences/actors/c23/videos\n",
            "100% 363/363 [15:20<00:00,  2.54s/it]\n",
            "Downloading videos of dataset \"manipulated_sequences/Deepfakes\"\n",
            "Output path: /content/gdrive/Shareddrives/FaceForensics++/FaceForensics++/manipulated_sequences/Deepfakes/c23/videos\n",
            "100% 1000/1000 [28:49<00:00,  1.73s/it]\n",
            "Downloading videos of dataset \"manipulated_sequences/DeepFakeDetection\"\n",
            "Output path: /content/gdrive/Shareddrives/FaceForensics++/FaceForensics++/manipulated_sequences/DeepFakeDetection/c23/videos\n",
            " 88% 2711/3068 [1:45:06<13:12,  2.22s/it]"
          ]
        }
      ],
      "source": [
        "!python download-Faceforensics.py '/content/gdrive/Shareddrives/FaceForensics++/FaceForensics++' -d all -c c23 -t videos"
      ]
    }
  ],
  "metadata": {
    "colab": {
      "collapsed_sections": [],
      "provenance": [],
      "include_colab_link": true
    },
    "kernelspec": {
      "display_name": "Python 3",
      "name": "python3"
    },
    "language_info": {
      "name": "python"
    }
  },
  "nbformat": 4,
  "nbformat_minor": 0
}